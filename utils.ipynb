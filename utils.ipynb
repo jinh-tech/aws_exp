{
 "cells": [
  {
   "cell_type": "code",
   "execution_count": 11,
   "metadata": {},
   "outputs": [],
   "source": [
    "import boto3 \n",
    "from joblib import dump, load\n",
    "from io import BytesIO"
   ]
  },
  {
   "cell_type": "code",
   "execution_count": 12,
   "metadata": {},
   "outputs": [],
   "source": [
    "def write_s3(data, bucket, key):\n",
    "\n",
    "    with BytesIO() as f:\n",
    "        dump(data, f)\n",
    "        f.seek(0)\n",
    "        boto3.client(\"s3\").upload_fileobj(Bucket=bucket, Key=key, Fileobj=f)"
   ]
  },
  {
   "cell_type": "code",
   "execution_count": 13,
   "metadata": {},
   "outputs": [],
   "source": [
    "def read_s3(bucket, key):\n",
    "\n",
    "    with BytesIO() as f:\n",
    "        boto3.client(\"s3\").download_fileobj(Bucket=bucket, Key=key, Fileobj=f)\n",
    "        f.seek(0)\n",
    "        file = load(f)\n",
    "    \n",
    "    return file"
   ]
  },
  {
   "cell_type": "code",
   "execution_count": 17,
   "metadata": {},
   "outputs": [],
   "source": [
    "import numpy as np\n",
    "import pandas as pd\n",
    "a = np.array([1,2,3,4,5,6])\n",
    "b = {'a':23,12:'4'}\n",
    "c = pd.DataFrame(data=[[1,2,4],[4,5,6]],columns=['v','j','q'])\n",
    "data = [a,b,c]"
   ]
  },
  {
   "cell_type": "code",
   "execution_count": 18,
   "metadata": {},
   "outputs": [],
   "source": [
    "write_s3(data, 'mltestdatasets', 'testdata.joblib')"
   ]
  },
  {
   "cell_type": "code",
   "execution_count": 19,
   "metadata": {},
   "outputs": [],
   "source": [
    "file = read_s3('mltestdatasets', 'testdata.joblib')"
   ]
  },
  {
   "cell_type": "code",
   "execution_count": 20,
   "metadata": {},
   "outputs": [
    {
     "data": {
      "text/plain": [
       "[array([1, 2, 3, 4, 5, 6]),\n",
       " {'a': 23, 12: '4'},\n",
       "    v  j  q\n",
       " 0  1  2  4\n",
       " 1  4  5  6]"
      ]
     },
     "execution_count": 20,
     "metadata": {},
     "output_type": "execute_result"
    }
   ],
   "source": [
    "file"
   ]
  }
 ],
 "metadata": {
  "kernelspec": {
   "display_name": "conda_tensorflow_p36",
   "language": "python",
   "name": "conda_tensorflow_p36"
  },
  "language_info": {
   "codemirror_mode": {
    "name": "ipython",
    "version": 3
   },
   "file_extension": ".py",
   "mimetype": "text/x-python",
   "name": "python",
   "nbconvert_exporter": "python",
   "pygments_lexer": "ipython3",
   "version": "3.6.10"
  }
 },
 "nbformat": 4,
 "nbformat_minor": 4
}
