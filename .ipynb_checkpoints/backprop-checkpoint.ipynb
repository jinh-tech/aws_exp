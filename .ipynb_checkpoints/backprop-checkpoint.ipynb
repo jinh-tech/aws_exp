{
 "cells": [
  {
   "cell_type": "code",
   "execution_count": null,
   "metadata": {},
   "outputs": [],
   "source": [
    "import numpy as np"
   ]
  },
  {
   "cell_type": "code",
   "execution_count": null,
   "metadata": {},
   "outputs": [],
   "source": [
    "num_iter = 20\n",
    "alpha = 0.001\n",
    "act = 'relu'\n",
    "error = 'mse'\n",
    "input_size = (40,1) #dimensions, number of points\n",
    "output_size = 1"
   ]
  },
  {
   "cell_type": "code",
   "execution_count": null,
   "metadata": {},
   "outputs": [],
   "source": [
    "def activation_func(x,act):\n",
    "    if act == 'relu':\n",
    "        return np.maximum(0,x)\n",
    "    elif act == 'sigmoid':\n",
    "        return 1/(1+np.exp(-x))"
   ]
  },
  {
   "cell_type": "code",
   "execution_count": null,
   "metadata": {},
   "outputs": [],
   "source": [
    "def der_activation_func(x,act):\n",
    "    if act == 'relu':\n",
    "        return np.maximum(0,x)\n",
    "    elif act == 'sigmoid':\n",
    "        return np.exp(-x)/np.power(1+np.exp(-x),2)"
   ]
  },
  {
   "cell_type": "code",
   "execution_count": null,
   "metadata": {},
   "outputs": [],
   "source": [
    "def forward(x,W,h,act):\n",
    "    for i in range(len(W)):\n",
    "        if i == 0:\n",
    "            h[i] = activation_func(np.matmul(W[i].T,x),act)\n",
    "        elif i == len(W)-1:\n",
    "            h[i] = np.matmul(W[i].T,h[i-1])\n",
    "        else:\n",
    "            h[i] = activation_func(np.matmul(W[i].T,h[i-1]),act)\n",
    "    return h"
   ]
  },
  {
   "cell_type": "code",
   "execution_count": null,
   "metadata": {},
   "outputs": [],
   "source": [
    "def error(y,y_hat,error):\n",
    "    if error == 'mse':\n",
    "        return np.square(y-y_hat).mean(axis=1)"
   ]
  },
  {
   "cell_type": "code",
   "execution_count": null,
   "metadata": {},
   "outputs": [],
   "source": [
    "def backprop(x,W,h,y,act):\n",
    "    if layer == 0:\n",
    "        \n",
    "    for i in range(len(W)-1,-1):\n",
    "        if i == len(W)-1:\n",
    "        \n",
    "        elif i == len(W)-2:\n",
    "            \n",
    "        \n",
    "        \n",
    "    return \n",
    "        "
   ]
  },
  {
   "cell_type": "code",
   "execution_count": null,
   "metadata": {},
   "outputs": [],
   "source": [
    "x = np.random.normal(size=input_size) # #features X #points\n",
    "y_hat = np.random.normal(size=(output_size,x.shape[1]))\n",
    "network_layer_size = (x.shape[0],30,20,10,5,output_size) #input,layer1,layer2...,output \n",
    "matrix_size = ((network_layer_size[i],network_layer_size[i+1]) for i in range(len(network_layer_size)-1))\n",
    "W = [np.random.normal(size=i) for i in matrix_size]\n",
    "h = [np.empty(shape=(network_layer_size[i], x.shape[1])) for i in range(1,len(network_layer_size))]"
   ]
  },
  {
   "cell_type": "code",
   "execution_count": null,
   "metadata": {},
   "outputs": [],
   "source": [
    "for i in range(num_iter):\n",
    "    h = forward(x,W,h,act)\n",
    "    print(error(y_hat,h[-1],error))\n",
    "    W = backprop(x,W,h,y_hat,act)"
   ]
  }
 ],
 "metadata": {
  "kernelspec": {
   "display_name": "conda_pytorch_latest_p36",
   "language": "python",
   "name": "conda_pytorch_latest_p36"
  },
  "language_info": {
   "codemirror_mode": {
    "name": "ipython",
    "version": 3
   },
   "file_extension": ".py",
   "mimetype": "text/x-python",
   "name": "python",
   "nbconvert_exporter": "python",
   "pygments_lexer": "ipython3",
   "version": "3.6.10"
  }
 },
 "nbformat": 4,
 "nbformat_minor": 4
}
